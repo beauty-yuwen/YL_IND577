{
 "cells": [
  {
   "cell_type": "markdown",
   "id": "41a4acb3",
   "metadata": {},
   "source": [
    "# The Single Neuron Linear Regression Model\n",
    "## In this notebook, we will focus on linear regression. \n",
    "### First, we are gonna load necessary libraries and our dataset."
   ]
  },
  {
   "cell_type": "code",
   "execution_count": 88,
   "metadata": {},
   "outputs": [],
   "source": [
    "import matplotlib.pyplot as plt\n",
    "import numpy as np\n",
    "import pandas as pd\n",
    "from sklearn.model_selection import train_test_split\n",
    "from sklearn.metrics import confusion_matrix\n",
    "import seaborn as sns\n",
    "from sklearn.linear_model import LinearRegression\n",
    "from sklearn.metrics import mean_squared_error, r2_score\n",
    "import matplotlib.pyplot as plt\n",
    "sns.set_theme()\n",
    "\n",
    "df = pd.read_csv(\"cancer_reg.csv\")"
   ]
  },
  {
   "cell_type": "markdown",
   "id": "df6e66e0",
   "metadata": {},
   "source": [
    "### Then, let's check our dataset."
   ]
  },
  {
   "cell_type": "code",
   "execution_count": 89,
   "id": "33516370",
   "metadata": {},
   "outputs": [
    {
     "data": {
      "text/html": [
       "<div>\n",
       "<style scoped>\n",
       "    .dataframe tbody tr th:only-of-type {\n",
       "        vertical-align: middle;\n",
       "    }\n",
       "\n",
       "    .dataframe tbody tr th {\n",
       "        vertical-align: top;\n",
       "    }\n",
       "\n",
       "    .dataframe thead th {\n",
       "        text-align: right;\n",
       "    }\n",
       "</style>\n",
       "<table border=\"1\" class=\"dataframe\">\n",
       "  <thead>\n",
       "    <tr style=\"text-align: right;\">\n",
       "      <th></th>\n",
       "      <th>avganncount</th>\n",
       "      <th>avgdeathsperyear</th>\n",
       "      <th>target_deathrate</th>\n",
       "      <th>incidencerate</th>\n",
       "      <th>medincome</th>\n",
       "      <th>popest2015</th>\n",
       "      <th>povertypercent</th>\n",
       "      <th>studypercap</th>\n",
       "      <th>medianage</th>\n",
       "      <th>medianagemale</th>\n",
       "      <th>...</th>\n",
       "      <th>pctprivatecoveragealone</th>\n",
       "      <th>pctempprivcoverage</th>\n",
       "      <th>pctpubliccoverage</th>\n",
       "      <th>pctpubliccoveragealone</th>\n",
       "      <th>pctwhite</th>\n",
       "      <th>pctblack</th>\n",
       "      <th>pctasian</th>\n",
       "      <th>pctotherrace</th>\n",
       "      <th>pctmarriedhouseholds</th>\n",
       "      <th>birthrate</th>\n",
       "    </tr>\n",
       "  </thead>\n",
       "  <tbody>\n",
       "    <tr>\n",
       "      <th>count</th>\n",
       "      <td>3047.000000</td>\n",
       "      <td>3047.000000</td>\n",
       "      <td>3047.000000</td>\n",
       "      <td>3047.000000</td>\n",
       "      <td>3047.000000</td>\n",
       "      <td>3.047000e+03</td>\n",
       "      <td>3047.000000</td>\n",
       "      <td>3047.000000</td>\n",
       "      <td>3047.000000</td>\n",
       "      <td>3047.000000</td>\n",
       "      <td>...</td>\n",
       "      <td>2438.000000</td>\n",
       "      <td>3047.000000</td>\n",
       "      <td>3047.000000</td>\n",
       "      <td>3047.000000</td>\n",
       "      <td>3047.000000</td>\n",
       "      <td>3047.000000</td>\n",
       "      <td>3047.000000</td>\n",
       "      <td>3047.000000</td>\n",
       "      <td>3047.000000</td>\n",
       "      <td>3047.000000</td>\n",
       "    </tr>\n",
       "    <tr>\n",
       "      <th>mean</th>\n",
       "      <td>606.338544</td>\n",
       "      <td>185.965868</td>\n",
       "      <td>178.664063</td>\n",
       "      <td>448.268586</td>\n",
       "      <td>47063.281917</td>\n",
       "      <td>1.026374e+05</td>\n",
       "      <td>16.878175</td>\n",
       "      <td>155.399415</td>\n",
       "      <td>45.272333</td>\n",
       "      <td>39.570725</td>\n",
       "      <td>...</td>\n",
       "      <td>48.453774</td>\n",
       "      <td>41.196324</td>\n",
       "      <td>36.252642</td>\n",
       "      <td>19.240072</td>\n",
       "      <td>83.645286</td>\n",
       "      <td>9.107978</td>\n",
       "      <td>1.253965</td>\n",
       "      <td>1.983523</td>\n",
       "      <td>51.243872</td>\n",
       "      <td>5.640306</td>\n",
       "    </tr>\n",
       "    <tr>\n",
       "      <th>std</th>\n",
       "      <td>1416.356223</td>\n",
       "      <td>504.134286</td>\n",
       "      <td>27.751511</td>\n",
       "      <td>54.560733</td>\n",
       "      <td>12040.090836</td>\n",
       "      <td>3.290592e+05</td>\n",
       "      <td>6.409087</td>\n",
       "      <td>529.628366</td>\n",
       "      <td>45.304480</td>\n",
       "      <td>5.226017</td>\n",
       "      <td>...</td>\n",
       "      <td>10.083006</td>\n",
       "      <td>9.447687</td>\n",
       "      <td>7.841741</td>\n",
       "      <td>6.113041</td>\n",
       "      <td>16.380025</td>\n",
       "      <td>14.534538</td>\n",
       "      <td>2.610276</td>\n",
       "      <td>3.517710</td>\n",
       "      <td>6.572814</td>\n",
       "      <td>1.985816</td>\n",
       "    </tr>\n",
       "    <tr>\n",
       "      <th>min</th>\n",
       "      <td>6.000000</td>\n",
       "      <td>3.000000</td>\n",
       "      <td>59.700000</td>\n",
       "      <td>201.300000</td>\n",
       "      <td>22640.000000</td>\n",
       "      <td>8.270000e+02</td>\n",
       "      <td>3.200000</td>\n",
       "      <td>0.000000</td>\n",
       "      <td>22.300000</td>\n",
       "      <td>22.400000</td>\n",
       "      <td>...</td>\n",
       "      <td>15.700000</td>\n",
       "      <td>13.500000</td>\n",
       "      <td>11.200000</td>\n",
       "      <td>2.600000</td>\n",
       "      <td>10.199155</td>\n",
       "      <td>0.000000</td>\n",
       "      <td>0.000000</td>\n",
       "      <td>0.000000</td>\n",
       "      <td>22.992490</td>\n",
       "      <td>0.000000</td>\n",
       "    </tr>\n",
       "    <tr>\n",
       "      <th>25%</th>\n",
       "      <td>76.000000</td>\n",
       "      <td>28.000000</td>\n",
       "      <td>161.200000</td>\n",
       "      <td>420.300000</td>\n",
       "      <td>38882.500000</td>\n",
       "      <td>1.168400e+04</td>\n",
       "      <td>12.150000</td>\n",
       "      <td>0.000000</td>\n",
       "      <td>37.700000</td>\n",
       "      <td>36.350000</td>\n",
       "      <td>...</td>\n",
       "      <td>41.000000</td>\n",
       "      <td>34.500000</td>\n",
       "      <td>30.900000</td>\n",
       "      <td>14.850000</td>\n",
       "      <td>77.296180</td>\n",
       "      <td>0.620675</td>\n",
       "      <td>0.254199</td>\n",
       "      <td>0.295172</td>\n",
       "      <td>47.763063</td>\n",
       "      <td>4.521419</td>\n",
       "    </tr>\n",
       "    <tr>\n",
       "      <th>50%</th>\n",
       "      <td>171.000000</td>\n",
       "      <td>61.000000</td>\n",
       "      <td>178.100000</td>\n",
       "      <td>453.549422</td>\n",
       "      <td>45207.000000</td>\n",
       "      <td>2.664300e+04</td>\n",
       "      <td>15.900000</td>\n",
       "      <td>0.000000</td>\n",
       "      <td>41.000000</td>\n",
       "      <td>39.600000</td>\n",
       "      <td>...</td>\n",
       "      <td>48.700000</td>\n",
       "      <td>41.100000</td>\n",
       "      <td>36.300000</td>\n",
       "      <td>18.800000</td>\n",
       "      <td>90.059774</td>\n",
       "      <td>2.247576</td>\n",
       "      <td>0.549812</td>\n",
       "      <td>0.826185</td>\n",
       "      <td>51.669941</td>\n",
       "      <td>5.381478</td>\n",
       "    </tr>\n",
       "    <tr>\n",
       "      <th>75%</th>\n",
       "      <td>518.000000</td>\n",
       "      <td>149.000000</td>\n",
       "      <td>195.200000</td>\n",
       "      <td>480.850000</td>\n",
       "      <td>52492.000000</td>\n",
       "      <td>6.867100e+04</td>\n",
       "      <td>20.400000</td>\n",
       "      <td>83.650776</td>\n",
       "      <td>44.000000</td>\n",
       "      <td>42.500000</td>\n",
       "      <td>...</td>\n",
       "      <td>55.600000</td>\n",
       "      <td>47.700000</td>\n",
       "      <td>41.550000</td>\n",
       "      <td>23.100000</td>\n",
       "      <td>95.451693</td>\n",
       "      <td>10.509732</td>\n",
       "      <td>1.221037</td>\n",
       "      <td>2.177960</td>\n",
       "      <td>55.395132</td>\n",
       "      <td>6.493677</td>\n",
       "    </tr>\n",
       "    <tr>\n",
       "      <th>max</th>\n",
       "      <td>38150.000000</td>\n",
       "      <td>14010.000000</td>\n",
       "      <td>362.800000</td>\n",
       "      <td>1206.900000</td>\n",
       "      <td>125635.000000</td>\n",
       "      <td>1.017029e+07</td>\n",
       "      <td>47.400000</td>\n",
       "      <td>9762.308998</td>\n",
       "      <td>624.000000</td>\n",
       "      <td>64.700000</td>\n",
       "      <td>...</td>\n",
       "      <td>78.900000</td>\n",
       "      <td>70.700000</td>\n",
       "      <td>65.100000</td>\n",
       "      <td>46.600000</td>\n",
       "      <td>100.000000</td>\n",
       "      <td>85.947799</td>\n",
       "      <td>42.619425</td>\n",
       "      <td>41.930251</td>\n",
       "      <td>78.075397</td>\n",
       "      <td>21.326165</td>\n",
       "    </tr>\n",
       "  </tbody>\n",
       "</table>\n",
       "<p>8 rows × 31 columns</p>\n",
       "</div>"
      ],
      "text/plain": [
       "        avganncount  avgdeathsperyear  target_deathrate  incidencerate  \\\n",
       "count   3047.000000       3047.000000       3047.000000    3047.000000   \n",
       "mean     606.338544        185.965868        178.664063     448.268586   \n",
       "std     1416.356223        504.134286         27.751511      54.560733   \n",
       "min        6.000000          3.000000         59.700000     201.300000   \n",
       "25%       76.000000         28.000000        161.200000     420.300000   \n",
       "50%      171.000000         61.000000        178.100000     453.549422   \n",
       "75%      518.000000        149.000000        195.200000     480.850000   \n",
       "max    38150.000000      14010.000000        362.800000    1206.900000   \n",
       "\n",
       "           medincome    popest2015  povertypercent  studypercap    medianage  \\\n",
       "count    3047.000000  3.047000e+03     3047.000000  3047.000000  3047.000000   \n",
       "mean    47063.281917  1.026374e+05       16.878175   155.399415    45.272333   \n",
       "std     12040.090836  3.290592e+05        6.409087   529.628366    45.304480   \n",
       "min     22640.000000  8.270000e+02        3.200000     0.000000    22.300000   \n",
       "25%     38882.500000  1.168400e+04       12.150000     0.000000    37.700000   \n",
       "50%     45207.000000  2.664300e+04       15.900000     0.000000    41.000000   \n",
       "75%     52492.000000  6.867100e+04       20.400000    83.650776    44.000000   \n",
       "max    125635.000000  1.017029e+07       47.400000  9762.308998   624.000000   \n",
       "\n",
       "       medianagemale  ...  pctprivatecoveragealone  pctempprivcoverage  \\\n",
       "count    3047.000000  ...              2438.000000         3047.000000   \n",
       "mean       39.570725  ...                48.453774           41.196324   \n",
       "std         5.226017  ...                10.083006            9.447687   \n",
       "min        22.400000  ...                15.700000           13.500000   \n",
       "25%        36.350000  ...                41.000000           34.500000   \n",
       "50%        39.600000  ...                48.700000           41.100000   \n",
       "75%        42.500000  ...                55.600000           47.700000   \n",
       "max        64.700000  ...                78.900000           70.700000   \n",
       "\n",
       "       pctpubliccoverage  pctpubliccoveragealone     pctwhite     pctblack  \\\n",
       "count        3047.000000             3047.000000  3047.000000  3047.000000   \n",
       "mean           36.252642               19.240072    83.645286     9.107978   \n",
       "std             7.841741                6.113041    16.380025    14.534538   \n",
       "min            11.200000                2.600000    10.199155     0.000000   \n",
       "25%            30.900000               14.850000    77.296180     0.620675   \n",
       "50%            36.300000               18.800000    90.059774     2.247576   \n",
       "75%            41.550000               23.100000    95.451693    10.509732   \n",
       "max            65.100000               46.600000   100.000000    85.947799   \n",
       "\n",
       "          pctasian  pctotherrace  pctmarriedhouseholds    birthrate  \n",
       "count  3047.000000   3047.000000           3047.000000  3047.000000  \n",
       "mean      1.253965      1.983523             51.243872     5.640306  \n",
       "std       2.610276      3.517710              6.572814     1.985816  \n",
       "min       0.000000      0.000000             22.992490     0.000000  \n",
       "25%       0.254199      0.295172             47.763063     4.521419  \n",
       "50%       0.549812      0.826185             51.669941     5.381478  \n",
       "75%       1.221037      2.177960             55.395132     6.493677  \n",
       "max      42.619425     41.930251             78.075397    21.326165  \n",
       "\n",
       "[8 rows x 31 columns]"
      ]
     },
     "execution_count": 89,
     "metadata": {},
     "output_type": "execute_result"
    }
   ],
   "source": [
    "df.describe()"
   ]
  },
  {
   "cell_type": "markdown",
   "id": "60da651d",
   "metadata": {},
   "source": [
    "### According to the table above, we can see there are total 32 numeric variables in this dataset. And we will use 'target_deathrate' as our response variable."
   ]
  },
  {
   "cell_type": "markdown",
   "id": "cc58aa28",
   "metadata": {},
   "source": [
    "### Before doing any work, we need to deal with missing value and non-numeric variable. "
   ]
  },
  {
   "cell_type": "code",
   "execution_count": 90,
   "id": "c891d1a0",
   "metadata": {},
   "outputs": [
    {
     "data": {
      "text/plain": [
       "avganncount                   0\n",
       "avgdeathsperyear              0\n",
       "target_deathrate              0\n",
       "incidencerate                 0\n",
       "medincome                     0\n",
       "popest2015                    0\n",
       "povertypercent                0\n",
       "studypercap                   0\n",
       "binnedinc                     0\n",
       "medianage                     0\n",
       "medianagemale                 0\n",
       "medianagefemale               0\n",
       "geography                     0\n",
       "percentmarried                0\n",
       "pctnohs18_24                  0\n",
       "pcths18_24                    0\n",
       "pctsomecol18_24            2285\n",
       "pctbachdeg18_24               0\n",
       "pcths25_over                  0\n",
       "pctbachdeg25_over             0\n",
       "pctemployed16_over          152\n",
       "pctunemployed16_over          0\n",
       "pctprivatecoverage            0\n",
       "pctprivatecoveragealone     609\n",
       "pctempprivcoverage            0\n",
       "pctpubliccoverage             0\n",
       "pctpubliccoveragealone        0\n",
       "pctwhite                      0\n",
       "pctblack                      0\n",
       "pctasian                      0\n",
       "pctotherrace                  0\n",
       "pctmarriedhouseholds          0\n",
       "birthrate                     0\n",
       "dtype: int64"
      ]
     },
     "execution_count": 90,
     "metadata": {},
     "output_type": "execute_result"
    }
   ],
   "source": [
    "df.isna().sum()"
   ]
  },
  {
   "cell_type": "markdown",
   "id": "5fc85899",
   "metadata": {},
   "source": [
    "### According to the result, there are missing values in 'pctsomecol18_24', 'pctemployed16_over' and 'pctprivatecoveragealone'. Because there are so many missing values in 'pctsomecol18_24' and 'pctprivatecoveragealone', so we consider deleting the 2 variables. Besides, we will delete rows where there are missing values of 'pctemployed16_over'."
   ]
  },
  {
   "cell_type": "code",
   "execution_count": 100,
   "id": "7b473a42",
   "metadata": {},
   "outputs": [
    {
     "data": {
      "text/plain": [
       "avganncount               0\n",
       "avgdeathsperyear          0\n",
       "incidencerate             0\n",
       "medincome                 0\n",
       "popest2015                0\n",
       "povertypercent            0\n",
       "studypercap               0\n",
       "medianage                 0\n",
       "medianagemale             0\n",
       "medianagefemale           0\n",
       "percentmarried            0\n",
       "pctnohs18_24              0\n",
       "pcths18_24                0\n",
       "pctbachdeg18_24           0\n",
       "pcths25_over              0\n",
       "pctbachdeg25_over         0\n",
       "pctemployed16_over        0\n",
       "pctunemployed16_over      0\n",
       "pctprivatecoverage        0\n",
       "pctempprivcoverage        0\n",
       "pctpubliccoverage         0\n",
       "pctpubliccoveragealone    0\n",
       "pctwhite                  0\n",
       "pctblack                  0\n",
       "pctasian                  0\n",
       "pctotherrace              0\n",
       "pctmarriedhouseholds      0\n",
       "birthrate                 0\n",
       "dtype: int64"
      ]
     },
     "execution_count": 100,
     "metadata": {},
     "output_type": "execute_result"
    }
   ],
   "source": [
    "df=df.drop(df[df['pctemployed16_over'].isnull()].index)\n",
    "y = df['target_deathrate']\n",
    "columns_to_drop = [\"target_deathrate\", \"pctsomecol18_24\", \"pctprivatecoveragealone\",\"binnedinc\",\"geography\"]\n",
    "X = df.drop(columns=columns_to_drop)\n",
    "X.shape"
   ]
  },
  {
   "cell_type": "markdown",
   "id": "b3d0760b",
   "metadata": {},
   "source": [
    "### After dealing with missing values, I will seperate the dataset as training dataset and testing dataset."
   ]
  },
  {
   "cell_type": "code",
   "execution_count": 92,
   "id": "fd86534a",
   "metadata": {},
   "outputs": [],
   "source": [
    "X_train, X_test, y_train, y_test = train_test_split(X, y, test_size=0.2, random_state=42)"
   ]
  },
  {
   "cell_type": "markdown",
   "id": "21ce6776",
   "metadata": {},
   "source": [
    "### Then, using training dataset to build linear regression model."
   ]
  },
  {
   "cell_type": "code",
   "execution_count": 93,
   "id": "cb00f530",
   "metadata": {},
   "outputs": [
    {
     "data": {
      "text/plain": [
       "LinearRegression()"
      ]
     },
     "execution_count": 93,
     "metadata": {},
     "output_type": "execute_result"
    }
   ],
   "source": [
    "# Create a linear regression model\n",
    "model = LinearRegression()\n",
    "\n",
    "# Train the model on the training set\n",
    "model.fit(X_train, y_train)\n"
   ]
  },
  {
   "cell_type": "markdown",
   "id": "1ac1f22f",
   "metadata": {},
   "source": [
    "### Let's check the result. More importantly, check the precision of the linear regression model."
   ]
  },
  {
   "cell_type": "code",
   "execution_count": 94,
   "id": "06f7eae2",
   "metadata": {},
   "outputs": [
    {
     "name": "stdout",
     "output_type": "stream",
     "text": [
      "Mean Squared Error: 340.90361081342854\n",
      "R-squared: 0.5567053384700541\n"
     ]
    },
    {
     "data": {
      "image/png": "[encoded data removed]",
      "text/plain": [
       "<Figure size 640x480 with 1 Axes>"
      ]
     },
     "metadata": {},
     "output_type": "display_data"
    }
   ],
   "source": [
    "y_pred0=model.predict(X_train)\n",
    "y_pred1 = model.predict(X_test)\n",
    "# Evaluate the model\n",
    "mse = mean_squared_error(y_test, y_pred1)\n",
    "r2 = r2_score(y_test, y_pred1)\n",
    "\n",
    "print(f'Mean Squared Error: {mse}')\n",
    "print(f'R-squared: {r2}')\n",
    "\n",
    "# Plot the actual vs predicted values\n",
    "plt.scatter(y_test, y_pred1)\n",
    "plt.xlabel('Actual Values')\n",
    "plt.ylabel('Predicted Values')\n",
    "plt.title('Actual vs Predicted Values in Linear Regression')\n",
    "plt.show()\n"
   ]
  },
  {
   "cell_type": "markdown",
   "id": "63d79ea4",
   "metadata": {},
   "source": [
    "### According to the result(R-Square), this modle can explain about 55% of actual data. It is not very good. Then, I will try to build a Single Neuron Linear Regression Model by using the dataset.\n"
   ]
  },
  {
   "cell_type": "code",
   "execution_count": 103,
   "id": "601a37f6",
   "metadata": {},
   "outputs": [],
   "source": [
    "class SingleNeuron(object):\n",
    "    \"\"\"\n",
    "    A class used to represent a single artificial neuron. \n",
    "\n",
    "    ...\n",
    "\n",
    "    Attributes\n",
    "    ----------\n",
    "    activation_function : function\n",
    "        The activation function applied to the preactivation linear combination.\n",
    "\n",
    "    w_ : numpy.ndarray\n",
    "        The weights and bias of the single neuron. The last entry being the bias. \n",
    "        This attribute is created when the train method is called.\n",
    "\n",
    "    errors_: list\n",
    "        A list containing the mean sqaured error computed after each iteration \n",
    "        of stochastic gradient descent per epoch. \n",
    "\n",
    "    Methods\n",
    "    -------\n",
    "    train(self, X, y, alpha = 0.005, epochs = 50)\n",
    "        Iterates the stochastic gradient descent algorithm through each sample \n",
    "        a total of epochs number of times with learning rate alpha. The data \n",
    "        used consists of feature vectors X and associated labels y. \n",
    "\n",
    "    predict(self, X)\n",
    "        Uses the weights and bias, the feature vectors in X, and the \n",
    "        activation_function to make a y_hat prediction on each feature vector. \n",
    "    \"\"\"\n",
    "    def __init__(self, activation_function):\n",
    "        self.activation_function = activation_function\n",
    "\n",
    "    def train(self, X, y, alpha = 0.005, epochs = 50):\n",
    "        self.w_ = np.random.rand(1 + X.shape[1])\n",
    "        self.errors_ = []\n",
    "        N = X.shape[0]\n",
    "\n",
    "        for _ in range(epochs):\n",
    "            errors = 0\n",
    "            for xi, target in zip(X, y):\n",
    "                error = (self.predict(xi) - target)\n",
    "                self.w_[:-1] -= alpha*error*xi\n",
    "                self.w_[-1] -= alpha*error\n",
    "                errors += .5*(error**2)\n",
    "            self.errors_.append(errors/N)\n",
    "         \n",
    "        return self\n",
    "\n",
    "    def predict(self, X):\n",
    "        preactivation = np.dot(X, self.w_[:-1]) + self.w_[-1]\n",
    "        return self.activation_function(preactivation)"
   ]
  },
  {
   "cell_type": "code",
   "execution_count": 106,
   "id": "31836608",
   "metadata": {},
   "outputs": [
    {
     "name": "stdout",
     "output_type": "stream",
     "text": [
      "Mean Squared Error: 882.1485463872942\n"
     ]
    },
    {
     "data": {
      "image/png": "[encoded data removed]",
      "text/plain": [
       "<Figure size 1000x800 with 1 Axes>"
      ]
     },
     "metadata": {},
     "output_type": "display_data"
    }
   ],
   "source": [
    "from sklearn.preprocessing import MinMaxScaler\n",
    "\n",
    "scaler = MinMaxScaler()\n",
    "X_train_scaled = scaler.fit_transform(X_train)\n",
    "\n",
    "def linear_activation(z):\n",
    "    return z\n",
    "\n",
    "node = SingleNeuron(linear_activation)\n",
    "node.train(X_train_scaled, y_train, alpha = 0.0001, epochs = 5)\n",
    "y_hat=node.predict(X_train_scaled)\n",
    "mse = np.mean((y_train - y_hat)**2)\n",
    "print(f\"Mean Squared Error: {mse}\")\n",
    "\n",
    "plt.figure(figsize = (10, 8))\n",
    "plt.plot(range(1, len(node.errors_) + 1), \n",
    "         node.errors_,\n",
    "         marker = \"o\",\n",
    "         label = \"MSE\")\n",
    "plt.xlabel(\"epochs\", fontsize = 15)\n",
    "plt.ylabel(\"MSE\", fontsize = 15)\n",
    "plt.xticks(range(1, len(node.errors_) + 1))\n",
    "plt.legend(fontsize = 15)\n",
    "plt.title(\"MSE Error at Each Epoch During Training\", fontsize = 18)\n",
    "plt.show()"
   ]
  },
  {
   "cell_type": "markdown",
   "id": "e9c9b91a",
   "metadata": {},
   "source": [
    "### According to the MSE plot, at the 5th epoch, the mse is the smallest. But it is also a large number. What about in testing dataset?"
   ]
  },
  {
   "cell_type": "code",
   "execution_count": 109,
   "id": "079be51f",
   "metadata": {},
   "outputs": [
    {
     "name": "stdout",
     "output_type": "stream",
     "text": [
      "Mean Squared Error: 1032.901992973147\n"
     ]
    }
   ],
   "source": [
    "scaler = MinMaxScaler()\n",
    "X_test_scaled = scaler.fit_transform(X_test)\n",
    "y_hat1=node.predict(X_test_scaled)\n",
    "mse1 = np.mean((y_test - y_hat1)**2)\n",
    "print(f\"Mean Squared Error: {mse1}\")"
   ]
  },
  {
   "cell_type": "markdown",
   "id": "6685f36a",
   "metadata": {},
   "source": [
    "### In testing dataset, it gives a larger mse. That is to say, using linear regression model to predict 'target_deathrate' is not appropriate."
   ]
  }
 ],
 "metadata": {
  "kernelspec": {
   "display_name": "base",
   "language": "python",
   "name": "python3"
  },
  "language_info": {
   "codemirror_mode": {
    "name": "ipython",
    "version": 3
   },
   "file_extension": ".py",
   "mimetype": "text/x-python",
   "name": "python",
   "nbconvert_exporter": "python",
   "pygments_lexer": "ipython3",
   "version": "3.9.13"
  }
 },
 "nbformat": 4,
 "nbformat_minor": 5
}
