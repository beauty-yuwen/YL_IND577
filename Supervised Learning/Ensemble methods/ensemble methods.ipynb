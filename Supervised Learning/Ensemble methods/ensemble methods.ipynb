{
 "cells": [
  {
   "cell_type": "markdown",
   "id": "8e940c1d",
   "metadata": {},
   "source": [
    "# Ensemble Methods\n",
    "In this notebook, I will use a dataset to try ensemble methods. This data set have been seperated as train data and test data.\n",
    "## Hard voting\n"
   ]
  },
  {
   "cell_type": "code",
   "execution_count": 2,
   "id": "0d216913",
   "metadata": {},
   "outputs": [],
   "source": [
    "import matplotlib.pyplot as plt\n",
    "import numpy as np\n",
    "import pandas as pd\n",
    "import seaborn as sns\n",
    "\n",
    "# Set theme for plotting\n",
    "sns.set_theme()\n",
    "df=pd.read_csv('train.csv')"
   ]
  },
  {
   "cell_type": "code",
   "execution_count": 2,
   "id": "f071e386",
   "metadata": {},
   "outputs": [
    {
     "data": {
      "text/html": [
       "<div>\n",
       "<style scoped>\n",
       "    .dataframe tbody tr th:only-of-type {\n",
       "        vertical-align: middle;\n",
       "    }\n",
       "\n",
       "    .dataframe tbody tr th {\n",
       "        vertical-align: top;\n",
       "    }\n",
       "\n",
       "    .dataframe thead th {\n",
       "        text-align: right;\n",
       "    }\n",
       "</style>\n",
       "<table border=\"1\" class=\"dataframe\">\n",
       "  <thead>\n",
       "    <tr style=\"text-align: right;\">\n",
       "      <th></th>\n",
       "      <th>PassengerId</th>\n",
       "      <th>Survived</th>\n",
       "      <th>Pclass</th>\n",
       "      <th>Name</th>\n",
       "      <th>Sex</th>\n",
       "      <th>Age</th>\n",
       "      <th>SibSp</th>\n",
       "      <th>Parch</th>\n",
       "      <th>Ticket</th>\n",
       "      <th>Fare</th>\n",
       "      <th>Cabin</th>\n",
       "      <th>Embarked</th>\n",
       "    </tr>\n",
       "  </thead>\n",
       "  <tbody>\n",
       "    <tr>\n",
       "      <th>0</th>\n",
       "      <td>1</td>\n",
       "      <td>0</td>\n",
       "      <td>3</td>\n",
       "      <td>Braund, Mr. Owen Harris</td>\n",
       "      <td>male</td>\n",
       "      <td>22.0</td>\n",
       "      <td>1</td>\n",
       "      <td>0</td>\n",
       "      <td>A/5 21171</td>\n",
       "      <td>7.2500</td>\n",
       "      <td>NaN</td>\n",
       "      <td>S</td>\n",
       "    </tr>\n",
       "    <tr>\n",
       "      <th>1</th>\n",
       "      <td>2</td>\n",
       "      <td>1</td>\n",
       "      <td>1</td>\n",
       "      <td>Cumings, Mrs. John Bradley (Florence Briggs Th...</td>\n",
       "      <td>female</td>\n",
       "      <td>38.0</td>\n",
       "      <td>1</td>\n",
       "      <td>0</td>\n",
       "      <td>PC 17599</td>\n",
       "      <td>71.2833</td>\n",
       "      <td>C85</td>\n",
       "      <td>C</td>\n",
       "    </tr>\n",
       "    <tr>\n",
       "      <th>2</th>\n",
       "      <td>3</td>\n",
       "      <td>1</td>\n",
       "      <td>3</td>\n",
       "      <td>Heikkinen, Miss. Laina</td>\n",
       "      <td>female</td>\n",
       "      <td>26.0</td>\n",
       "      <td>0</td>\n",
       "      <td>0</td>\n",
       "      <td>STON/O2. 3101282</td>\n",
       "      <td>7.9250</td>\n",
       "      <td>NaN</td>\n",
       "      <td>S</td>\n",
       "    </tr>\n",
       "    <tr>\n",
       "      <th>3</th>\n",
       "      <td>4</td>\n",
       "      <td>1</td>\n",
       "      <td>1</td>\n",
       "      <td>Futrelle, Mrs. Jacques Heath (Lily May Peel)</td>\n",
       "      <td>female</td>\n",
       "      <td>35.0</td>\n",
       "      <td>1</td>\n",
       "      <td>0</td>\n",
       "      <td>113803</td>\n",
       "      <td>53.1000</td>\n",
       "      <td>C123</td>\n",
       "      <td>S</td>\n",
       "    </tr>\n",
       "    <tr>\n",
       "      <th>4</th>\n",
       "      <td>5</td>\n",
       "      <td>0</td>\n",
       "      <td>3</td>\n",
       "      <td>Allen, Mr. William Henry</td>\n",
       "      <td>male</td>\n",
       "      <td>35.0</td>\n",
       "      <td>0</td>\n",
       "      <td>0</td>\n",
       "      <td>373450</td>\n",
       "      <td>8.0500</td>\n",
       "      <td>NaN</td>\n",
       "      <td>S</td>\n",
       "    </tr>\n",
       "  </tbody>\n",
       "</table>\n",
       "</div>"
      ],
      "text/plain": [
       "   PassengerId  Survived  Pclass  \\\n",
       "0            1         0       3   \n",
       "1            2         1       1   \n",
       "2            3         1       3   \n",
       "3            4         1       1   \n",
       "4            5         0       3   \n",
       "\n",
       "                                                Name     Sex   Age  SibSp  \\\n",
       "0                            Braund, Mr. Owen Harris    male  22.0      1   \n",
       "1  Cumings, Mrs. John Bradley (Florence Briggs Th...  female  38.0      1   \n",
       "2                             Heikkinen, Miss. Laina  female  26.0      0   \n",
       "3       Futrelle, Mrs. Jacques Heath (Lily May Peel)  female  35.0      1   \n",
       "4                           Allen, Mr. William Henry    male  35.0      0   \n",
       "\n",
       "   Parch            Ticket     Fare Cabin Embarked  \n",
       "0      0         A/5 21171   7.2500   NaN        S  \n",
       "1      0          PC 17599  71.2833   C85        C  \n",
       "2      0  STON/O2. 3101282   7.9250   NaN        S  \n",
       "3      0            113803  53.1000  C123        S  \n",
       "4      0            373450   8.0500   NaN        S  "
      ]
     },
     "execution_count": 2,
     "metadata": {},
     "output_type": "execute_result"
    }
   ],
   "source": [
    "df.head()"
   ]
  },
  {
   "cell_type": "code",
   "execution_count": 3,
   "id": "2ce44456",
   "metadata": {},
   "outputs": [
    {
     "name": "stdout",
     "output_type": "stream",
     "text": [
      "<class 'pandas.core.frame.DataFrame'>\n",
      "RangeIndex: 891 entries, 0 to 890\n",
      "Data columns (total 12 columns):\n",
      " #   Column       Non-Null Count  Dtype  \n",
      "---  ------       --------------  -----  \n",
      " 0   PassengerId  891 non-null    int64  \n",
      " 1   Survived     891 non-null    int64  \n",
      " 2   Pclass       891 non-null    int64  \n",
      " 3   Name         891 non-null    object \n",
      " 4   Sex          891 non-null    object \n",
      " 5   Age          714 non-null    float64\n",
      " 6   SibSp        891 non-null    int64  \n",
      " 7   Parch        891 non-null    int64  \n",
      " 8   Ticket       891 non-null    object \n",
      " 9   Fare         891 non-null    float64\n",
      " 10  Cabin        204 non-null    object \n",
      " 11  Embarked     889 non-null    object \n",
      "dtypes: float64(2), int64(5), object(5)\n",
      "memory usage: 83.7+ KB\n"
     ]
    }
   ],
   "source": [
    "df.info()"
   ]
  },
  {
   "cell_type": "code",
   "execution_count": 4,
   "id": "f0422f06",
   "metadata": {},
   "outputs": [],
   "source": [
    "\n",
    "mean_age_miss = df[df[\"Name\"].str.contains('Miss.', na=False)]['Age'].mean()\n",
    "mean_age_mrs = df[df[\"Name\"].str.contains('Mrs.', na=False)]['Age'].mean()\n",
    "mean_age_mr = df[df[\"Name\"].str.contains('Mr.', na=False)]['Age'].mean()\n",
    "mean_age_master = df[df[\"Name\"].str.contains('Master.', na=False)]['Age'].mean()\n",
    "def fill_age(name_age):\n",
    "    \n",
    "    name = name_age[0]\n",
    "    age = name_age[1]\n",
    "    \n",
    "    if pd.isnull(age):\n",
    "        if 'Mr.' in name:\n",
    "            return mean_age_mr\n",
    "        if 'Mrs.' in name:\n",
    "            return mean_age_mrs\n",
    "        if 'Miss.' in name:\n",
    "            return mean_age_miss\n",
    "        if 'Master.' in name:\n",
    "            return mean_age_master\n",
    "        if 'Dr.' in name:\n",
    "            return mean_age_master\n",
    "        if 'Ms.' in name:\n",
    "            return mean_age_miss\n",
    "    else:\n",
    "        return age\n",
    "df['Age'] = df[['Name', 'Age']].apply(fill_age,axis=1)\n",
    "columns_to_drop = ['Survived','PassengerId','Name','Sex','Ticket','Cabin','Embarked']\n",
    "X = df.drop(columns=columns_to_drop)\n",
    "y=df['Survived']\n",
    "X_train, X_test, y_train, y_test = train_test_split(X, \n",
    "                                                    y,\n",
    "                                                    test_size = 0.4, \n",
    "                                                    random_state = 9)\n"
   ]
  },
  {
   "cell_type": "code",
   "execution_count": 29,
   "id": "053af679",
   "metadata": {},
   "outputs": [
    {
     "name": "stdout",
     "output_type": "stream",
     "text": [
      "svm accuracy: 0.6526610644257703\n",
      "logistic regression accuracy: 0.6890756302521008\n",
      "random forest accuracy: 0.6918767507002801\n",
      "voting classifier accuracy: 0.7002801120448179\n"
     ]
    }
   ],
   "source": [
    "# import classifiers\n",
    "from sklearn.ensemble import RandomForestClassifier\n",
    "from sklearn.linear_model import LogisticRegression\n",
    "from sklearn.svm import SVC\n",
    "\n",
    "# import ensemble method \n",
    "from sklearn.ensemble import VotingClassifier\n",
    "\n",
    "# split training data \n",
    "from sklearn.model_selection import train_test_split\n",
    "\n",
    "# import metric \n",
    "from sklearn.metrics import accuracy_score\n",
    "\n",
    "\n",
    "log_clf = LogisticRegression()\n",
    "rnd_clf = RandomForestClassifier()\n",
    "svm_clf = SVC()\n",
    "\n",
    "voting_clf = VotingClassifier(\n",
    "        estimators=[(\"lr\", log_clf), (\"rf\", rnd_clf), (\"svm\", svm_clf)],\n",
    "        voting = \"hard\"\n",
    "    )\n",
    "\n",
    "svm_clf.fit(X_train, y_train)\n",
    "svm_y_predict = svm_clf.predict(X_test)\n",
    "print(f\"svm accuracy: {accuracy_score(y_test, svm_y_predict)}\")\n",
    "\n",
    "log_clf.fit(X_train, y_train)\n",
    "log_y_predict = log_clf.predict(X_test)\n",
    "print(f\"logistic regression accuracy: {accuracy_score(y_test, log_y_predict)}\")\n",
    "\n",
    "rnd_clf.fit(X_train, y_train)\n",
    "rnd_y_predict = rnd_clf.predict(X_test)\n",
    "print(f\"random forest accuracy: {accuracy_score(y_test, rnd_y_predict)}\")\n",
    "\n",
    "voting_clf.fit(X_train, y_train)\n",
    "y_predict = voting_clf.predict(X_test)\n",
    "print(f\"voting classifier accuracy: {accuracy_score(y_test, y_predict)}\")\n"
   ]
  },
  {
   "cell_type": "markdown",
   "id": "31eb2b37",
   "metadata": {},
   "source": [
    "## Bagging"
   ]
  },
  {
   "cell_type": "code",
   "execution_count": 30,
   "id": "45fed2b8",
   "metadata": {},
   "outputs": [
    {
     "name": "stdout",
     "output_type": "stream",
     "text": [
      "Stump Classification Report\n",
      "              precision    recall  f1-score   support\n",
      "\n",
      "           0       0.78      0.69      0.74       225\n",
      "           1       0.56      0.67      0.61       132\n",
      "\n",
      "    accuracy                           0.69       357\n",
      "   macro avg       0.67      0.68      0.67       357\n",
      "weighted avg       0.70      0.69      0.69       357\n",
      " \n",
      "\n",
      "Tree Classification Report\n",
      "              precision    recall  f1-score   support\n",
      "\n",
      "           0       0.73      0.93      0.82       225\n",
      "           1       0.78      0.40      0.53       132\n",
      "\n",
      "    accuracy                           0.74       357\n",
      "   macro avg       0.75      0.67      0.67       357\n",
      "weighted avg       0.75      0.74      0.71       357\n",
      " \n",
      "\n"
     ]
    }
   ],
   "source": [
    "# import metrics\n",
    "from sklearn.metrics import classification_report\n",
    "from sklearn.tree import DecisionTreeClassifier\n",
    "from sklearn.ensemble import BaggingClassifier\n",
    "\n",
    "X_train, X_test, y_train, y_test = train_test_split(X, \n",
    "                                                    y,\n",
    "                                                    test_size = 0.4, \n",
    "                                                    random_state = 6)\n",
    "\n",
    "stump_clf = DecisionTreeClassifier(max_depth=1, random_state=42)\n",
    "stump_clf.fit(X_train, y_train)\n",
    "stump_y_pred = stump_clf.predict(X_test)\n",
    "print(f\"Stump Classification Report\")\n",
    "print(classification_report(y_test, stump_y_pred), \"\\n\")\n",
    "\n",
    "tree_clf = DecisionTreeClassifier(max_depth=6, random_state=42)\n",
    "tree_clf.fit(X_train, y_train)\n",
    "tree_y_pred = tree_clf.predict(X_test)\n",
    "print(f\"Tree Classification Report\")\n",
    "print(classification_report(y_test, tree_y_pred), \"\\n\")\n"
   ]
  },
  {
   "cell_type": "code",
   "execution_count": 31,
   "id": "fcd20360",
   "metadata": {},
   "outputs": [
    {
     "name": "stdout",
     "output_type": "stream",
     "text": [
      "Bagging Classification Report\n",
      "              precision    recall  f1-score   support\n",
      "\n",
      "           0       0.69      0.95      0.80       225\n",
      "           1       0.77      0.27      0.40       132\n",
      "\n",
      "    accuracy                           0.70       357\n",
      "   macro avg       0.73      0.61      0.60       357\n",
      "weighted avg       0.72      0.70      0.65       357\n",
      " \n",
      "\n"
     ]
    }
   ],
   "source": [
    "bag_clf = BaggingClassifier(DecisionTreeClassifier(max_depth=1, random_state=42),\n",
    "                            n_estimators = 500,\n",
    "                            bootstrap = True,\n",
    "                            n_jobs = -1)\n",
    "bag_clf.fit(X_train, y_train)\n",
    "bag_y_pred = bag_clf.predict(X_test)\n",
    "print(f\"Bagging Classification Report\")\n",
    "print(classification_report(y_test, bag_y_pred), \"\\n\")"
   ]
  },
  {
   "cell_type": "markdown",
   "id": "d138dff0",
   "metadata": {},
   "source": [
    "## Random Forests"
   ]
  },
  {
   "cell_type": "code",
   "execution_count": 32,
   "id": "5411913a",
   "metadata": {},
   "outputs": [
    {
     "name": "stdout",
     "output_type": "stream",
     "text": [
      "Tree Classification Report\n",
      "              precision    recall  f1-score   support\n",
      "\n",
      "           0       0.71      0.80      0.75       227\n",
      "           1       0.55      0.42      0.47       130\n",
      "\n",
      "    accuracy                           0.66       357\n",
      "   macro avg       0.63      0.61      0.61       357\n",
      "weighted avg       0.65      0.66      0.65       357\n",
      " \n",
      "\n",
      "Bagging Classification Report\n",
      "              precision    recall  f1-score   support\n",
      "\n",
      "           0       0.70      0.93      0.80       227\n",
      "           1       0.71      0.31      0.43       130\n",
      "\n",
      "    accuracy                           0.70       357\n",
      "   macro avg       0.71      0.62      0.61       357\n",
      "weighted avg       0.71      0.70      0.66       357\n",
      " \n",
      "\n"
     ]
    }
   ],
   "source": [
    "from sklearn.model_selection import train_test_split\n",
    "from sklearn.metrics import classification_report\n",
    "from sklearn.ensemble import RandomForestClassifier\n",
    "\n",
    "X_train, X_test, y_train, y_test = train_test_split(X, \n",
    "                                                    y,\n",
    "                                                    test_size = 0.4, \n",
    "                                                    random_state = 5)\n",
    "\n",
    "\n",
    "tree_clf = DecisionTreeClassifier(max_depth=15, random_state=42)\n",
    "tree_clf.fit(X_train, y_train)\n",
    "tree_y_pred = tree_clf.predict(X_test)\n",
    "print(f\"Tree Classification Report\")\n",
    "print(classification_report(y_test, tree_y_pred), \"\\n\")\n",
    "\n",
    "bag_clf = BaggingClassifier(DecisionTreeClassifier(max_depth=1, random_state=42),\n",
    "                            n_estimators = 500,\n",
    "                            bootstrap = True,\n",
    "                            n_jobs = -1)\n",
    "bag_clf.fit(X_train, y_train)\n",
    "bag_y_pred = bag_clf.predict(X_test)\n",
    "print(f\"Bagging Classification Report\")\n",
    "print(classification_report(y_test, bag_y_pred), \"\\n\")"
   ]
  },
  {
   "cell_type": "code",
   "execution_count": 33,
   "id": "11b0a470",
   "metadata": {},
   "outputs": [
    {
     "name": "stdout",
     "output_type": "stream",
     "text": [
      "Forest Classification Report\n",
      "              precision    recall  f1-score   support\n",
      "\n",
      "           0       0.70      0.93      0.80       227\n",
      "           1       0.71      0.31      0.43       130\n",
      "\n",
      "    accuracy                           0.70       357\n",
      "   macro avg       0.71      0.62      0.61       357\n",
      "weighted avg       0.71      0.70      0.66       357\n",
      " \n",
      "\n"
     ]
    }
   ],
   "source": [
    "forest_clf = RandomForestClassifier(max_depth = 1, n_estimators = 500,\n",
    "                                    bootstrap = True,\n",
    "                                    n_jobs = -1)\n",
    "forest_clf.fit(X_train, y_train)\n",
    "forest_y_pred = bag_clf.predict(X_test)\n",
    "print(f\"Forest Classification Report\")\n",
    "print(classification_report(y_test, forest_y_pred), \"\\n\")"
   ]
  },
  {
   "cell_type": "code",
   "execution_count": 35,
   "id": "d1f875c2",
   "metadata": {},
   "outputs": [
    {
     "name": "stdout",
     "output_type": "stream",
     "text": [
      "Tree Classification Report\n",
      "              precision    recall  f1-score   support\n",
      "\n",
      "           0       0.71      0.79      0.75       227\n",
      "           1       0.54      0.42      0.47       130\n",
      "\n",
      "    accuracy                           0.66       357\n",
      "   macro avg       0.62      0.61      0.61       357\n",
      "weighted avg       0.65      0.66      0.65       357\n",
      " \n",
      "\n",
      "Bagging Classification Report\n"
     ]
    }
   ],
   "source": [
    "from sklearn.ensemble import RandomForestClassifier\n",
    "\n",
    "X_train, X_test, y_train, y_test = train_test_split(X, \n",
    "                                                    y,\n",
    "                                                    test_size = 0.4, \n",
    "                                                    random_state = 5)\n",
    "\n",
    "\n",
    "\n",
    "tree_clf = DecisionTreeClassifier(max_depth=15, random_state=2,)\n",
    "tree_clf.fit(X_train, y_train)\n",
    "tree_y_pred = tree_clf.predict(X_test)\n",
    "print(f\"Tree Classification Report\")\n",
    "print(classification_report(y_test, tree_y_pred), \"\\n\")\n"
   ]
  },
  {
   "cell_type": "code",
   "execution_count": 36,
   "id": "16548ba2",
   "metadata": {},
   "outputs": [
    {
     "name": "stdout",
     "output_type": "stream",
     "text": [
      "Forest Classification Report\n",
      "              precision    recall  f1-score   support\n",
      "\n",
      "           0       0.70      0.93      0.80       227\n",
      "           1       0.71      0.30      0.42       130\n",
      "\n",
      "    accuracy                           0.70       357\n",
      "   macro avg       0.70      0.61      0.61       357\n",
      "weighted avg       0.70      0.70      0.66       357\n",
      " \n",
      "\n"
     ]
    }
   ],
   "source": [
    "forest_clf.fit(X_train, y_train)\n",
    "forest_y_pred = bag_clf.predict(X_test)\n",
    "print(f\"Forest Classification Report\")\n",
    "print(classification_report(y_test, forest_y_pred), \"\\n\")"
   ]
  },
  {
   "cell_type": "code",
   "execution_count": 37,
   "id": "45a70496",
   "metadata": {},
   "outputs": [
    {
     "name": "stdout",
     "output_type": "stream",
     "text": [
      "Forest Classification Report\n",
      "              precision    recall  f1-score   support\n",
      "\n",
      "           0       0.70      0.93      0.80       227\n",
      "           1       0.71      0.30      0.42       130\n",
      "\n",
      "    accuracy                           0.70       357\n",
      "   macro avg       0.70      0.61      0.61       357\n",
      "weighted avg       0.70      0.70      0.66       357\n",
      " \n",
      "\n"
     ]
    }
   ],
   "source": [
    "forest_clf = RandomForestClassifier(max_depth = 3, n_estimators = 500,\n",
    "                                    bootstrap = True,\n",
    "                                    n_jobs = -1, random_state=2)\n",
    "forest_clf.fit(X_train, y_train)\n",
    "forest_y_pred = bag_clf.predict(X_test)\n",
    "print(f\"Forest Classification Report\")\n",
    "print(classification_report(y_test, forest_y_pred), \"\\n\")"
   ]
  },
  {
   "cell_type": "markdown",
   "id": "2c80ddb6",
   "metadata": {},
   "source": [
    "## AdaBoost"
   ]
  },
  {
   "cell_type": "code",
   "execution_count": 5,
   "id": "4a3b6095",
   "metadata": {},
   "outputs": [
    {
     "name": "stdout",
     "output_type": "stream",
     "text": [
      "AdaBoost Classification Report\n",
      "              precision    recall  f1-score   support\n",
      "\n",
      "           0       0.70      0.88      0.78       216\n",
      "           1       0.71      0.43      0.54       141\n",
      "\n",
      "    accuracy                           0.71       357\n",
      "   macro avg       0.71      0.66      0.66       357\n",
      "weighted avg       0.71      0.71      0.69       357\n",
      " \n",
      "\n"
     ]
    }
   ],
   "source": [
    "from sklearn.model_selection import train_test_split\n",
    "from sklearn.metrics import classification_report\n",
    "\n",
    "X_train, X_test, y_train, y_test = train_test_split(X, \n",
    "                                                    y,\n",
    "                                                    test_size = 0.4, \n",
    "                                                    random_state = 42)\n",
    "\n",
    "from sklearn.ensemble import AdaBoostClassifier\n",
    "from sklearn.tree import DecisionTreeClassifier\n",
    "\n",
    "ada_clf = AdaBoostClassifier(DecisionTreeClassifier(max_depth=1, random_state=42), \n",
    "                             n_estimators = 10,\n",
    "                             algorithm = \"SAMME.R\",\n",
    "                             learning_rate = 0.5)\n",
    "ada_clf.fit(X_train, y_train)\n",
    "ada_y_pred = ada_clf.predict(X_test)\n",
    "print(f\"AdaBoost Classification Report\")\n",
    "print(classification_report(y_test, ada_y_pred), \"\\n\")"
   ]
  },
  {
   "cell_type": "code",
   "execution_count": 6,
   "id": "12222796",
   "metadata": {},
   "outputs": [
    {
     "name": "stdout",
     "output_type": "stream",
     "text": [
      "Tree Classification Report\n",
      "              precision    recall  f1-score   support\n",
      "\n",
      "           0       0.70      0.88      0.78       216\n",
      "           1       0.71      0.43      0.54       141\n",
      "\n",
      "    accuracy                           0.71       357\n",
      "   macro avg       0.71      0.66      0.66       357\n",
      "weighted avg       0.71      0.71      0.69       357\n",
      " \n",
      "\n"
     ]
    }
   ],
   "source": [
    "X_train, X_test, y_train, y_test = train_test_split(X, \n",
    "                                                    y,\n",
    "                                                    test_size = 0.4, \n",
    "                                                    random_state = 42)\n",
    "\n",
    "ada_clf = AdaBoostClassifier(DecisionTreeClassifier(max_depth=1, random_state=42), \n",
    "                             n_estimators = 10,\n",
    "                             algorithm = \"SAMME.R\",\n",
    "                             learning_rate = 0.5)\n",
    "ada_clf.fit(X_train, y_train)\n",
    "ada_y_pred = ada_clf.predict(X_test)\n",
    "print(f\"Tree Classification Report\")\n",
    "print(classification_report(y_test, ada_y_pred), \"\\n\")"
   ]
  },
  {
   "cell_type": "markdown",
   "id": "b0ef1b47",
   "metadata": {},
   "source": [
    "## Gradient Boosting"
   ]
  },
  {
   "cell_type": "code",
   "execution_count": 8,
   "id": "0edcb7d9",
   "metadata": {},
   "outputs": [
    {
     "data": {
      "text/plain": [
       "DecisionTreeRegressor(max_depth=2, random_state=42)"
      ]
     },
     "execution_count": 8,
     "metadata": {},
     "output_type": "execute_result"
    }
   ],
   "source": [
    "from sklearn.tree import DecisionTreeRegressor\n",
    "\n",
    "\n",
    "X_train, X_test, y_train, y_test = train_test_split(X, \n",
    "                                                    y,\n",
    "                                                    test_size = 0.4, \n",
    "                                                    random_state = 42)\n",
    "\n",
    "\n",
    "tree_reg1 = DecisionTreeRegressor(max_depth=2, random_state=42)\n",
    "tree_reg1.fit(X_train, y_train)\n",
    "\n",
    "y2 = y_train - tree_reg1.predict(X_train)\n",
    "\n",
    "tree_reg2 = DecisionTreeRegressor(max_depth=2, random_state=42)\n",
    "tree_reg2.fit(X_train, y2)\n",
    "\n",
    "y3 = y2 - tree_reg2.predict(X_train)\n",
    "\n",
    "tree_reg3 = DecisionTreeRegressor(max_depth=2, random_state=42)\n",
    "tree_reg3.fit(X_train, y3)"
   ]
  },
  {
   "cell_type": "code",
   "execution_count": 18,
   "id": "b46cb41c",
   "metadata": {},
   "outputs": [
    {
     "name": "stdout",
     "output_type": "stream",
     "text": [
      "Mean Squared Error: 0.18610234532616068\n"
     ]
    }
   ],
   "source": [
    "from sklearn.ensemble import GradientBoostingRegressor\n",
    "\n",
    "gb_reg = GradientBoostingRegressor(max_depth = 2, n_estimators = 150, learning_rate=0.2, random_state=42)\n",
    "gb_reg.fit(X_train, y_train)\n",
    "y_pred = gb_reg.predict(X_test)\n",
    "from sklearn.metrics import mean_squared_error\n",
    "\n",
    "mse = mean_squared_error(y_test, y_pred)\n",
    "print(f\"Mean Squared Error: {mse}\")"
   ]
  }
 ],
 "metadata": {
  "kernelspec": {
   "display_name": "base",
   "language": "python",
   "name": "python3"
  },
  "language_info": {
   "codemirror_mode": {
    "name": "ipython",
    "version": 3
   },
   "file_extension": ".py",
   "mimetype": "text/x-python",
   "name": "python",
   "nbconvert_exporter": "python",
   "pygments_lexer": "ipython3",
   "version": "3.9.13"
  }
 },
 "nbformat": 4,
 "nbformat_minor": 5
}
